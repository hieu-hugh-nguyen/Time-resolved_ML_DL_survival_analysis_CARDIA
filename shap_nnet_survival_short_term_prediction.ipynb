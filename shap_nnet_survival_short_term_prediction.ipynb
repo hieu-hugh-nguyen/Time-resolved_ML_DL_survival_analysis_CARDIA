{
 "cells": [
  {
   "cell_type": "code",
   "execution_count": 80,
   "metadata": {},
   "outputs": [],
   "source": [
    "import numpy as np\n",
    "import shap\n",
    "n_features = 'all'\n",
    "term_pred = 'short_term'\n",
    "data_file_name = 'data_y10'\n",
    "endpt = 10\n",
    "eval_times = 365.25*np.r_[1, np.arange(2, endpt+1, 2)]\n",
    "work_dir = '/home/idies/workspace/Storage/hnguye78/persistent/CARDIA_project/cvd_outcome_rerun2'\n",
    "work_dir = 'U:/Hieu/CARDIA_project/CARDIA_project/cvd_outcome_rerun_2'"
   ]
  },
  {
   "cell_type": "code",
   "execution_count": 81,
   "metadata": {},
   "outputs": [],
   "source": [
    "# %pip install tensorflow\n",
    "# %pip install lifelines\n",
    "\n",
    "# !y | pip uninstall statsmodels \n",
    "# %pip install statsmodels==0.11.0\n",
    "\n",
    "# %pip install keras"
   ]
  },
  {
   "cell_type": "code",
   "execution_count": 82,
   "metadata": {},
   "outputs": [],
   "source": [
    "from __future__ import print_function\n",
    "from tensorflow.keras import backend as K\n",
    "\n",
    "import matplotlib.pyplot as plt\n",
    "import numpy as np\n",
    "import pandas as pd\n",
    "import matplotlib\n",
    "from tensorflow.keras.preprocessing import sequence\n",
    "from tensorflow.keras.models import Sequential, Model\n",
    "from tensorflow.keras.layers import Input, Dense, Dropout, Activation, LSTM, GRU, Embedding, Concatenate, Conv1D, GlobalMaxPooling1D, MaxPooling1D, GlobalAveragePooling1D, BatchNormalization, TimeDistributed\n",
    "from tensorflow.keras import optimizers, layers, regularizers\n",
    "from tensorflow.keras.callbacks import EarlyStopping, ModelCheckpoint\n",
    "from tensorflow.keras.models import load_model\n",
    "import math\n",
    "from lifelines import KaplanMeierFitter\n",
    "from lifelines import CoxPHFitter\n",
    "from lifelines.utils import concordance_index\n",
    "from sklearn.preprocessing import StandardScaler\n",
    "from scipy import stats\n",
    "import time\n"
   ]
  },
  {
   "cell_type": "code",
   "execution_count": 83,
   "metadata": {},
   "outputs": [],
   "source": [
    "snippets_dir = '/home/idies/workspace/Storage/hnguye78/persistent/CARDIA_project/cvd_outcome_rerun'+ '/code/snippet'\n",
    "snippets_dir = 'U:/Hieu/CARDIA_project/CARDIA_project/Git/Python_code/snippets'\n",
    "\n",
    "import os, sys\n",
    "sys.path.append(os.path.abspath(snippets_dir))\n",
    "import nnet_survival\n",
    "from cox import *\n"
   ]
  },
  {
   "cell_type": "code",
   "execution_count": 84,
   "metadata": {},
   "outputs": [],
   "source": [
    "load_dir = work_dir+ '/csv_files'\n",
    "# load data:\n",
    "data_full = pd.read_csv(load_dir+'/'+data_file_name+'.csv')\n",
    "data_full = data_full.select_dtypes(include =[np.number])\n"
   ]
  },
  {
   "cell_type": "code",
   "execution_count": 85,
   "metadata": {},
   "outputs": [
    {
     "data": {
      "text/html": [
       "<div>\n",
       "<style scoped>\n",
       "    .dataframe tbody tr th:only-of-type {\n",
       "        vertical-align: middle;\n",
       "    }\n",
       "\n",
       "    .dataframe tbody tr th {\n",
       "        vertical-align: top;\n",
       "    }\n",
       "\n",
       "    .dataframe thead th {\n",
       "        text-align: right;\n",
       "    }\n",
       "</style>\n",
       "<table border=\"1\" class=\"dataframe\">\n",
       "  <thead>\n",
       "    <tr style=\"text-align: right;\">\n",
       "      <th></th>\n",
       "      <th>ID</th>\n",
       "      <th>event</th>\n",
       "      <th>time</th>\n",
       "      <th>sex</th>\n",
       "      <th>race</th>\n",
       "      <th>cholesterol</th>\n",
       "      <th>hdl</th>\n",
       "      <th>hbp.medication</th>\n",
       "      <th>smoker</th>\n",
       "      <th>diabetes</th>\n",
       "      <th>...</th>\n",
       "      <th>C08MELAG_YEAR</th>\n",
       "      <th>C08SKNAG_YEAR</th>\n",
       "      <th>C08BRNAG_YEAR</th>\n",
       "      <th>C08STMAG_YEAR</th>\n",
       "      <th>C08OCAAG_YEAR</th>\n",
       "      <th>C08GALDA_YEAR</th>\n",
       "      <th>C08PRGAG_YEAR</th>\n",
       "      <th>C08KYSAG_YEAR</th>\n",
       "      <th>C08URNAG_YEAR</th>\n",
       "      <th>count_na</th>\n",
       "    </tr>\n",
       "  </thead>\n",
       "  <tbody>\n",
       "    <tr>\n",
       "      <th>0</th>\n",
       "      <td>100016012504</td>\n",
       "      <td>0</td>\n",
       "      <td>3689.025</td>\n",
       "      <td>0</td>\n",
       "      <td>0</td>\n",
       "      <td>186.0</td>\n",
       "      <td>38.0</td>\n",
       "      <td>0</td>\n",
       "      <td>1</td>\n",
       "      <td>0</td>\n",
       "      <td>...</td>\n",
       "      <td>0</td>\n",
       "      <td>0</td>\n",
       "      <td>0</td>\n",
       "      <td>0</td>\n",
       "      <td>0</td>\n",
       "      <td>0</td>\n",
       "      <td>0</td>\n",
       "      <td>0</td>\n",
       "      <td>0</td>\n",
       "      <td>0.048673</td>\n",
       "    </tr>\n",
       "    <tr>\n",
       "      <th>1</th>\n",
       "      <td>100023004268</td>\n",
       "      <td>0</td>\n",
       "      <td>3689.025</td>\n",
       "      <td>0</td>\n",
       "      <td>0</td>\n",
       "      <td>166.0</td>\n",
       "      <td>43.0</td>\n",
       "      <td>0</td>\n",
       "      <td>0</td>\n",
       "      <td>0</td>\n",
       "      <td>...</td>\n",
       "      <td>0</td>\n",
       "      <td>0</td>\n",
       "      <td>0</td>\n",
       "      <td>0</td>\n",
       "      <td>0</td>\n",
       "      <td>0</td>\n",
       "      <td>0</td>\n",
       "      <td>0</td>\n",
       "      <td>0</td>\n",
       "      <td>0.055310</td>\n",
       "    </tr>\n",
       "    <tr>\n",
       "      <th>2</th>\n",
       "      <td>100033323702</td>\n",
       "      <td>0</td>\n",
       "      <td>3689.025</td>\n",
       "      <td>0</td>\n",
       "      <td>0</td>\n",
       "      <td>234.0</td>\n",
       "      <td>52.0</td>\n",
       "      <td>0</td>\n",
       "      <td>0</td>\n",
       "      <td>0</td>\n",
       "      <td>...</td>\n",
       "      <td>0</td>\n",
       "      <td>0</td>\n",
       "      <td>0</td>\n",
       "      <td>0</td>\n",
       "      <td>0</td>\n",
       "      <td>0</td>\n",
       "      <td>0</td>\n",
       "      <td>0</td>\n",
       "      <td>0</td>\n",
       "      <td>0.077434</td>\n",
       "    </tr>\n",
       "    <tr>\n",
       "      <th>3</th>\n",
       "      <td>100048415270</td>\n",
       "      <td>0</td>\n",
       "      <td>1169.000</td>\n",
       "      <td>0</td>\n",
       "      <td>1</td>\n",
       "      <td>137.0</td>\n",
       "      <td>40.0</td>\n",
       "      <td>0</td>\n",
       "      <td>1</td>\n",
       "      <td>0</td>\n",
       "      <td>...</td>\n",
       "      <td>0</td>\n",
       "      <td>0</td>\n",
       "      <td>0</td>\n",
       "      <td>0</td>\n",
       "      <td>0</td>\n",
       "      <td>0</td>\n",
       "      <td>0</td>\n",
       "      <td>0</td>\n",
       "      <td>18</td>\n",
       "      <td>0.008850</td>\n",
       "    </tr>\n",
       "    <tr>\n",
       "      <th>4</th>\n",
       "      <td>100056526386</td>\n",
       "      <td>0</td>\n",
       "      <td>3689.025</td>\n",
       "      <td>0</td>\n",
       "      <td>1</td>\n",
       "      <td>199.0</td>\n",
       "      <td>44.0</td>\n",
       "      <td>0</td>\n",
       "      <td>0</td>\n",
       "      <td>0</td>\n",
       "      <td>...</td>\n",
       "      <td>0</td>\n",
       "      <td>0</td>\n",
       "      <td>0</td>\n",
       "      <td>0</td>\n",
       "      <td>0</td>\n",
       "      <td>0</td>\n",
       "      <td>0</td>\n",
       "      <td>0</td>\n",
       "      <td>0</td>\n",
       "      <td>0.008850</td>\n",
       "    </tr>\n",
       "    <tr>\n",
       "      <th>...</th>\n",
       "      <td>...</td>\n",
       "      <td>...</td>\n",
       "      <td>...</td>\n",
       "      <td>...</td>\n",
       "      <td>...</td>\n",
       "      <td>...</td>\n",
       "      <td>...</td>\n",
       "      <td>...</td>\n",
       "      <td>...</td>\n",
       "      <td>...</td>\n",
       "      <td>...</td>\n",
       "      <td>...</td>\n",
       "      <td>...</td>\n",
       "      <td>...</td>\n",
       "      <td>...</td>\n",
       "      <td>...</td>\n",
       "      <td>...</td>\n",
       "      <td>...</td>\n",
       "      <td>...</td>\n",
       "      <td>...</td>\n",
       "      <td>...</td>\n",
       "    </tr>\n",
       "    <tr>\n",
       "      <th>4309</th>\n",
       "      <td>416761219907</td>\n",
       "      <td>0</td>\n",
       "      <td>3689.025</td>\n",
       "      <td>1</td>\n",
       "      <td>0</td>\n",
       "      <td>225.0</td>\n",
       "      <td>57.0</td>\n",
       "      <td>0</td>\n",
       "      <td>0</td>\n",
       "      <td>0</td>\n",
       "      <td>...</td>\n",
       "      <td>0</td>\n",
       "      <td>0</td>\n",
       "      <td>0</td>\n",
       "      <td>0</td>\n",
       "      <td>0</td>\n",
       "      <td>0</td>\n",
       "      <td>14</td>\n",
       "      <td>0</td>\n",
       "      <td>0</td>\n",
       "      <td>0.048673</td>\n",
       "    </tr>\n",
       "    <tr>\n",
       "      <th>4310</th>\n",
       "      <td>416771521620</td>\n",
       "      <td>0</td>\n",
       "      <td>3689.025</td>\n",
       "      <td>0</td>\n",
       "      <td>1</td>\n",
       "      <td>204.0</td>\n",
       "      <td>76.0</td>\n",
       "      <td>0</td>\n",
       "      <td>0</td>\n",
       "      <td>0</td>\n",
       "      <td>...</td>\n",
       "      <td>0</td>\n",
       "      <td>0</td>\n",
       "      <td>0</td>\n",
       "      <td>0</td>\n",
       "      <td>0</td>\n",
       "      <td>0</td>\n",
       "      <td>0</td>\n",
       "      <td>0</td>\n",
       "      <td>0</td>\n",
       "      <td>0.004425</td>\n",
       "    </tr>\n",
       "    <tr>\n",
       "      <th>4311</th>\n",
       "      <td>416783315386</td>\n",
       "      <td>0</td>\n",
       "      <td>3689.025</td>\n",
       "      <td>1</td>\n",
       "      <td>0</td>\n",
       "      <td>159.0</td>\n",
       "      <td>58.0</td>\n",
       "      <td>0</td>\n",
       "      <td>0</td>\n",
       "      <td>0</td>\n",
       "      <td>...</td>\n",
       "      <td>0</td>\n",
       "      <td>0</td>\n",
       "      <td>0</td>\n",
       "      <td>0</td>\n",
       "      <td>0</td>\n",
       "      <td>0</td>\n",
       "      <td>8</td>\n",
       "      <td>0</td>\n",
       "      <td>0</td>\n",
       "      <td>0.112832</td>\n",
       "    </tr>\n",
       "    <tr>\n",
       "      <th>4312</th>\n",
       "      <td>416796224310</td>\n",
       "      <td>0</td>\n",
       "      <td>3689.025</td>\n",
       "      <td>1</td>\n",
       "      <td>1</td>\n",
       "      <td>164.0</td>\n",
       "      <td>55.0</td>\n",
       "      <td>0</td>\n",
       "      <td>0</td>\n",
       "      <td>0</td>\n",
       "      <td>...</td>\n",
       "      <td>0</td>\n",
       "      <td>0</td>\n",
       "      <td>0</td>\n",
       "      <td>0</td>\n",
       "      <td>0</td>\n",
       "      <td>0</td>\n",
       "      <td>14</td>\n",
       "      <td>0</td>\n",
       "      <td>0</td>\n",
       "      <td>0.070796</td>\n",
       "    </tr>\n",
       "    <tr>\n",
       "      <th>4313</th>\n",
       "      <td>416817227898</td>\n",
       "      <td>0</td>\n",
       "      <td>3689.025</td>\n",
       "      <td>0</td>\n",
       "      <td>1</td>\n",
       "      <td>204.0</td>\n",
       "      <td>43.0</td>\n",
       "      <td>0</td>\n",
       "      <td>1</td>\n",
       "      <td>0</td>\n",
       "      <td>...</td>\n",
       "      <td>0</td>\n",
       "      <td>0</td>\n",
       "      <td>0</td>\n",
       "      <td>0</td>\n",
       "      <td>0</td>\n",
       "      <td>0</td>\n",
       "      <td>0</td>\n",
       "      <td>0</td>\n",
       "      <td>0</td>\n",
       "      <td>0.115044</td>\n",
       "    </tr>\n",
       "  </tbody>\n",
       "</table>\n",
       "<p>4314 rows × 457 columns</p>\n",
       "</div>"
      ],
      "text/plain": [
       "                ID  event      time  sex  race  cholesterol   hdl  \\\n",
       "0     100016012504      0  3689.025    0     0        186.0  38.0   \n",
       "1     100023004268      0  3689.025    0     0        166.0  43.0   \n",
       "2     100033323702      0  3689.025    0     0        234.0  52.0   \n",
       "3     100048415270      0  1169.000    0     1        137.0  40.0   \n",
       "4     100056526386      0  3689.025    0     1        199.0  44.0   \n",
       "...            ...    ...       ...  ...   ...          ...   ...   \n",
       "4309  416761219907      0  3689.025    1     0        225.0  57.0   \n",
       "4310  416771521620      0  3689.025    0     1        204.0  76.0   \n",
       "4311  416783315386      0  3689.025    1     0        159.0  58.0   \n",
       "4312  416796224310      0  3689.025    1     1        164.0  55.0   \n",
       "4313  416817227898      0  3689.025    0     1        204.0  43.0   \n",
       "\n",
       "      hbp.medication  smoker  diabetes  ...  C08MELAG_YEAR  C08SKNAG_YEAR  \\\n",
       "0                  0       1         0  ...              0              0   \n",
       "1                  0       0         0  ...              0              0   \n",
       "2                  0       0         0  ...              0              0   \n",
       "3                  0       1         0  ...              0              0   \n",
       "4                  0       0         0  ...              0              0   \n",
       "...              ...     ...       ...  ...            ...            ...   \n",
       "4309               0       0         0  ...              0              0   \n",
       "4310               0       0         0  ...              0              0   \n",
       "4311               0       0         0  ...              0              0   \n",
       "4312               0       0         0  ...              0              0   \n",
       "4313               0       1         0  ...              0              0   \n",
       "\n",
       "      C08BRNAG_YEAR  C08STMAG_YEAR  C08OCAAG_YEAR  C08GALDA_YEAR  \\\n",
       "0                 0              0              0              0   \n",
       "1                 0              0              0              0   \n",
       "2                 0              0              0              0   \n",
       "3                 0              0              0              0   \n",
       "4                 0              0              0              0   \n",
       "...             ...            ...            ...            ...   \n",
       "4309              0              0              0              0   \n",
       "4310              0              0              0              0   \n",
       "4311              0              0              0              0   \n",
       "4312              0              0              0              0   \n",
       "4313              0              0              0              0   \n",
       "\n",
       "      C08PRGAG_YEAR  C08KYSAG_YEAR  C08URNAG_YEAR  count_na  \n",
       "0                 0              0              0  0.048673  \n",
       "1                 0              0              0  0.055310  \n",
       "2                 0              0              0  0.077434  \n",
       "3                 0              0             18  0.008850  \n",
       "4                 0              0              0  0.008850  \n",
       "...             ...            ...            ...       ...  \n",
       "4309             14              0              0  0.048673  \n",
       "4310              0              0              0  0.004425  \n",
       "4311              8              0              0  0.112832  \n",
       "4312             14              0              0  0.070796  \n",
       "4313              0              0              0  0.115044  \n",
       "\n",
       "[4314 rows x 457 columns]"
      ]
     },
     "execution_count": 85,
     "metadata": {},
     "output_type": "execute_result"
    }
   ],
   "source": [
    "data_full"
   ]
  },
  {
   "cell_type": "code",
   "execution_count": 86,
   "metadata": {},
   "outputs": [],
   "source": [
    "# load training id:\n",
    "loaddir = work_dir+ '/csv_files'\n",
    "trainingid_all = pd.read_csv(loaddir+'/all_training_ID_outerloop_cohort_0_10.csv')\n",
    "\n",
    "## standardize feature space, then merge back to label space:\n",
    "feature_space = data_full.drop(['ID','event','time'], axis = 1)\n",
    "feature_name_list = feature_space.columns.values\n",
    "\n",
    "from sklearn.preprocessing import StandardScaler\n",
    "scaler = StandardScaler().fit(feature_space)\n",
    "scaled_feature_space = scaler.transform(feature_space)\n",
    "scaled_feature_space_df = pd.DataFrame(data=scaled_feature_space[0:,0:])\n",
    "scaled_feature_space_df.columns = feature_name_list\n",
    "scaled_feature_space_df.insert(0, 'ID', data_full['ID'], True)\n",
    "label = data_full.loc[:,['ID','event','time']]\n",
    "data_full = pd.merge(label, scaled_feature_space_df)"
   ]
  },
  {
   "cell_type": "code",
   "execution_count": 87,
   "metadata": {},
   "outputs": [
    {
     "data": {
      "text/html": [
       "<div>\n",
       "<style scoped>\n",
       "    .dataframe tbody tr th:only-of-type {\n",
       "        vertical-align: middle;\n",
       "    }\n",
       "\n",
       "    .dataframe tbody tr th {\n",
       "        vertical-align: top;\n",
       "    }\n",
       "\n",
       "    .dataframe thead th {\n",
       "        text-align: right;\n",
       "    }\n",
       "</style>\n",
       "<table border=\"1\" class=\"dataframe\">\n",
       "  <thead>\n",
       "    <tr style=\"text-align: right;\">\n",
       "      <th></th>\n",
       "      <th>ID</th>\n",
       "      <th>event</th>\n",
       "      <th>time</th>\n",
       "      <th>sex</th>\n",
       "      <th>race</th>\n",
       "      <th>cholesterol</th>\n",
       "      <th>hdl</th>\n",
       "      <th>hbp.medication</th>\n",
       "      <th>smoker</th>\n",
       "      <th>diabetes</th>\n",
       "      <th>...</th>\n",
       "      <th>C08MELAG_YEAR</th>\n",
       "      <th>C08SKNAG_YEAR</th>\n",
       "      <th>C08BRNAG_YEAR</th>\n",
       "      <th>C08STMAG_YEAR</th>\n",
       "      <th>C08OCAAG_YEAR</th>\n",
       "      <th>C08GALDA_YEAR</th>\n",
       "      <th>C08PRGAG_YEAR</th>\n",
       "      <th>C08KYSAG_YEAR</th>\n",
       "      <th>C08URNAG_YEAR</th>\n",
       "      <th>count_na</th>\n",
       "    </tr>\n",
       "  </thead>\n",
       "  <tbody>\n",
       "    <tr>\n",
       "      <th>0</th>\n",
       "      <td>100016012504</td>\n",
       "      <td>0</td>\n",
       "      <td>3689.025</td>\n",
       "      <td>-1.106215</td>\n",
       "      <td>-0.970306</td>\n",
       "      <td>0.235193</td>\n",
       "      <td>-1.090061</td>\n",
       "      <td>-0.126551</td>\n",
       "      <td>1.580754</td>\n",
       "      <td>-0.150863</td>\n",
       "      <td>...</td>\n",
       "      <td>-0.022243</td>\n",
       "      <td>-0.024272</td>\n",
       "      <td>-0.021537</td>\n",
       "      <td>-0.015227</td>\n",
       "      <td>-0.056678</td>\n",
       "      <td>-0.087086</td>\n",
       "      <td>-0.626333</td>\n",
       "      <td>-0.090552</td>\n",
       "      <td>-0.124130</td>\n",
       "      <td>0.773715</td>\n",
       "    </tr>\n",
       "    <tr>\n",
       "      <th>1</th>\n",
       "      <td>100023004268</td>\n",
       "      <td>0</td>\n",
       "      <td>3689.025</td>\n",
       "      <td>-1.106215</td>\n",
       "      <td>-0.970306</td>\n",
       "      <td>-0.356134</td>\n",
       "      <td>-0.732871</td>\n",
       "      <td>-0.126551</td>\n",
       "      <td>-0.632609</td>\n",
       "      <td>-0.150863</td>\n",
       "      <td>...</td>\n",
       "      <td>-0.022243</td>\n",
       "      <td>-0.024272</td>\n",
       "      <td>-0.021537</td>\n",
       "      <td>-0.015227</td>\n",
       "      <td>-0.056678</td>\n",
       "      <td>-0.087086</td>\n",
       "      <td>-0.626333</td>\n",
       "      <td>-0.090552</td>\n",
       "      <td>-0.124130</td>\n",
       "      <td>0.979473</td>\n",
       "    </tr>\n",
       "    <tr>\n",
       "      <th>2</th>\n",
       "      <td>100033323702</td>\n",
       "      <td>0</td>\n",
       "      <td>3689.025</td>\n",
       "      <td>-1.106215</td>\n",
       "      <td>-0.970306</td>\n",
       "      <td>1.654379</td>\n",
       "      <td>-0.089929</td>\n",
       "      <td>-0.126551</td>\n",
       "      <td>-0.632609</td>\n",
       "      <td>-0.150863</td>\n",
       "      <td>...</td>\n",
       "      <td>-0.022243</td>\n",
       "      <td>-0.024272</td>\n",
       "      <td>-0.021537</td>\n",
       "      <td>-0.015227</td>\n",
       "      <td>-0.056678</td>\n",
       "      <td>-0.087086</td>\n",
       "      <td>-0.626333</td>\n",
       "      <td>-0.090552</td>\n",
       "      <td>-0.124130</td>\n",
       "      <td>1.665334</td>\n",
       "    </tr>\n",
       "    <tr>\n",
       "      <th>3</th>\n",
       "      <td>100048415270</td>\n",
       "      <td>0</td>\n",
       "      <td>1169.000</td>\n",
       "      <td>-1.106215</td>\n",
       "      <td>1.030602</td>\n",
       "      <td>-1.213559</td>\n",
       "      <td>-0.947185</td>\n",
       "      <td>-0.126551</td>\n",
       "      <td>1.580754</td>\n",
       "      <td>-0.150863</td>\n",
       "      <td>...</td>\n",
       "      <td>-0.022243</td>\n",
       "      <td>-0.024272</td>\n",
       "      <td>-0.021537</td>\n",
       "      <td>-0.015227</td>\n",
       "      <td>-0.056678</td>\n",
       "      <td>-0.087086</td>\n",
       "      <td>-0.626333</td>\n",
       "      <td>-0.090552</td>\n",
       "      <td>8.591018</td>\n",
       "      <td>-0.460833</td>\n",
       "    </tr>\n",
       "    <tr>\n",
       "      <th>4</th>\n",
       "      <td>100056526386</td>\n",
       "      <td>0</td>\n",
       "      <td>3689.025</td>\n",
       "      <td>-1.106215</td>\n",
       "      <td>1.030602</td>\n",
       "      <td>0.619556</td>\n",
       "      <td>-0.661433</td>\n",
       "      <td>-0.126551</td>\n",
       "      <td>-0.632609</td>\n",
       "      <td>-0.150863</td>\n",
       "      <td>...</td>\n",
       "      <td>-0.022243</td>\n",
       "      <td>-0.024272</td>\n",
       "      <td>-0.021537</td>\n",
       "      <td>-0.015227</td>\n",
       "      <td>-0.056678</td>\n",
       "      <td>-0.087086</td>\n",
       "      <td>-0.626333</td>\n",
       "      <td>-0.090552</td>\n",
       "      <td>-0.124130</td>\n",
       "      <td>-0.460833</td>\n",
       "    </tr>\n",
       "    <tr>\n",
       "      <th>...</th>\n",
       "      <td>...</td>\n",
       "      <td>...</td>\n",
       "      <td>...</td>\n",
       "      <td>...</td>\n",
       "      <td>...</td>\n",
       "      <td>...</td>\n",
       "      <td>...</td>\n",
       "      <td>...</td>\n",
       "      <td>...</td>\n",
       "      <td>...</td>\n",
       "      <td>...</td>\n",
       "      <td>...</td>\n",
       "      <td>...</td>\n",
       "      <td>...</td>\n",
       "      <td>...</td>\n",
       "      <td>...</td>\n",
       "      <td>...</td>\n",
       "      <td>...</td>\n",
       "      <td>...</td>\n",
       "      <td>...</td>\n",
       "      <td>...</td>\n",
       "    </tr>\n",
       "    <tr>\n",
       "      <th>4309</th>\n",
       "      <td>416761219907</td>\n",
       "      <td>0</td>\n",
       "      <td>3689.025</td>\n",
       "      <td>0.903984</td>\n",
       "      <td>-0.970306</td>\n",
       "      <td>1.388282</td>\n",
       "      <td>0.267261</td>\n",
       "      <td>-0.126551</td>\n",
       "      <td>-0.632609</td>\n",
       "      <td>-0.150863</td>\n",
       "      <td>...</td>\n",
       "      <td>-0.022243</td>\n",
       "      <td>-0.024272</td>\n",
       "      <td>-0.021537</td>\n",
       "      <td>-0.015227</td>\n",
       "      <td>-0.056678</td>\n",
       "      <td>-0.087086</td>\n",
       "      <td>1.968180</td>\n",
       "      <td>-0.090552</td>\n",
       "      <td>-0.124130</td>\n",
       "      <td>0.773715</td>\n",
       "    </tr>\n",
       "    <tr>\n",
       "      <th>4310</th>\n",
       "      <td>416771521620</td>\n",
       "      <td>0</td>\n",
       "      <td>3689.025</td>\n",
       "      <td>-1.106215</td>\n",
       "      <td>1.030602</td>\n",
       "      <td>0.767388</td>\n",
       "      <td>1.624583</td>\n",
       "      <td>-0.126551</td>\n",
       "      <td>-0.632609</td>\n",
       "      <td>-0.150863</td>\n",
       "      <td>...</td>\n",
       "      <td>-0.022243</td>\n",
       "      <td>-0.024272</td>\n",
       "      <td>-0.021537</td>\n",
       "      <td>-0.015227</td>\n",
       "      <td>-0.056678</td>\n",
       "      <td>-0.087086</td>\n",
       "      <td>-0.626333</td>\n",
       "      <td>-0.090552</td>\n",
       "      <td>-0.124130</td>\n",
       "      <td>-0.598005</td>\n",
       "    </tr>\n",
       "    <tr>\n",
       "      <th>4311</th>\n",
       "      <td>416783315386</td>\n",
       "      <td>0</td>\n",
       "      <td>3689.025</td>\n",
       "      <td>0.903984</td>\n",
       "      <td>-0.970306</td>\n",
       "      <td>-0.563099</td>\n",
       "      <td>0.338699</td>\n",
       "      <td>-0.126551</td>\n",
       "      <td>-0.632609</td>\n",
       "      <td>-0.150863</td>\n",
       "      <td>...</td>\n",
       "      <td>-0.022243</td>\n",
       "      <td>-0.024272</td>\n",
       "      <td>-0.021537</td>\n",
       "      <td>-0.015227</td>\n",
       "      <td>-0.056678</td>\n",
       "      <td>-0.087086</td>\n",
       "      <td>0.856246</td>\n",
       "      <td>-0.090552</td>\n",
       "      <td>-0.124130</td>\n",
       "      <td>2.762710</td>\n",
       "    </tr>\n",
       "    <tr>\n",
       "      <th>4312</th>\n",
       "      <td>416796224310</td>\n",
       "      <td>0</td>\n",
       "      <td>3689.025</td>\n",
       "      <td>0.903984</td>\n",
       "      <td>1.030602</td>\n",
       "      <td>-0.415267</td>\n",
       "      <td>0.124385</td>\n",
       "      <td>-0.126551</td>\n",
       "      <td>-0.632609</td>\n",
       "      <td>-0.150863</td>\n",
       "      <td>...</td>\n",
       "      <td>-0.022243</td>\n",
       "      <td>-0.024272</td>\n",
       "      <td>-0.021537</td>\n",
       "      <td>-0.015227</td>\n",
       "      <td>-0.056678</td>\n",
       "      <td>-0.087086</td>\n",
       "      <td>1.968180</td>\n",
       "      <td>-0.090552</td>\n",
       "      <td>-0.124130</td>\n",
       "      <td>1.459575</td>\n",
       "    </tr>\n",
       "    <tr>\n",
       "      <th>4313</th>\n",
       "      <td>416817227898</td>\n",
       "      <td>0</td>\n",
       "      <td>3689.025</td>\n",
       "      <td>-1.106215</td>\n",
       "      <td>1.030602</td>\n",
       "      <td>0.767388</td>\n",
       "      <td>-0.732871</td>\n",
       "      <td>-0.126551</td>\n",
       "      <td>1.580754</td>\n",
       "      <td>-0.150863</td>\n",
       "      <td>...</td>\n",
       "      <td>-0.022243</td>\n",
       "      <td>-0.024272</td>\n",
       "      <td>-0.021537</td>\n",
       "      <td>-0.015227</td>\n",
       "      <td>-0.056678</td>\n",
       "      <td>-0.087086</td>\n",
       "      <td>-0.626333</td>\n",
       "      <td>-0.090552</td>\n",
       "      <td>-0.124130</td>\n",
       "      <td>2.831296</td>\n",
       "    </tr>\n",
       "  </tbody>\n",
       "</table>\n",
       "<p>4314 rows × 457 columns</p>\n",
       "</div>"
      ],
      "text/plain": [
       "                ID  event      time       sex      race  cholesterol  \\\n",
       "0     100016012504      0  3689.025 -1.106215 -0.970306     0.235193   \n",
       "1     100023004268      0  3689.025 -1.106215 -0.970306    -0.356134   \n",
       "2     100033323702      0  3689.025 -1.106215 -0.970306     1.654379   \n",
       "3     100048415270      0  1169.000 -1.106215  1.030602    -1.213559   \n",
       "4     100056526386      0  3689.025 -1.106215  1.030602     0.619556   \n",
       "...            ...    ...       ...       ...       ...          ...   \n",
       "4309  416761219907      0  3689.025  0.903984 -0.970306     1.388282   \n",
       "4310  416771521620      0  3689.025 -1.106215  1.030602     0.767388   \n",
       "4311  416783315386      0  3689.025  0.903984 -0.970306    -0.563099   \n",
       "4312  416796224310      0  3689.025  0.903984  1.030602    -0.415267   \n",
       "4313  416817227898      0  3689.025 -1.106215  1.030602     0.767388   \n",
       "\n",
       "           hdl  hbp.medication    smoker  diabetes  ...  C08MELAG_YEAR  \\\n",
       "0    -1.090061       -0.126551  1.580754 -0.150863  ...      -0.022243   \n",
       "1    -0.732871       -0.126551 -0.632609 -0.150863  ...      -0.022243   \n",
       "2    -0.089929       -0.126551 -0.632609 -0.150863  ...      -0.022243   \n",
       "3    -0.947185       -0.126551  1.580754 -0.150863  ...      -0.022243   \n",
       "4    -0.661433       -0.126551 -0.632609 -0.150863  ...      -0.022243   \n",
       "...        ...             ...       ...       ...  ...            ...   \n",
       "4309  0.267261       -0.126551 -0.632609 -0.150863  ...      -0.022243   \n",
       "4310  1.624583       -0.126551 -0.632609 -0.150863  ...      -0.022243   \n",
       "4311  0.338699       -0.126551 -0.632609 -0.150863  ...      -0.022243   \n",
       "4312  0.124385       -0.126551 -0.632609 -0.150863  ...      -0.022243   \n",
       "4313 -0.732871       -0.126551  1.580754 -0.150863  ...      -0.022243   \n",
       "\n",
       "      C08SKNAG_YEAR  C08BRNAG_YEAR  C08STMAG_YEAR  C08OCAAG_YEAR  \\\n",
       "0         -0.024272      -0.021537      -0.015227      -0.056678   \n",
       "1         -0.024272      -0.021537      -0.015227      -0.056678   \n",
       "2         -0.024272      -0.021537      -0.015227      -0.056678   \n",
       "3         -0.024272      -0.021537      -0.015227      -0.056678   \n",
       "4         -0.024272      -0.021537      -0.015227      -0.056678   \n",
       "...             ...            ...            ...            ...   \n",
       "4309      -0.024272      -0.021537      -0.015227      -0.056678   \n",
       "4310      -0.024272      -0.021537      -0.015227      -0.056678   \n",
       "4311      -0.024272      -0.021537      -0.015227      -0.056678   \n",
       "4312      -0.024272      -0.021537      -0.015227      -0.056678   \n",
       "4313      -0.024272      -0.021537      -0.015227      -0.056678   \n",
       "\n",
       "      C08GALDA_YEAR  C08PRGAG_YEAR  C08KYSAG_YEAR  C08URNAG_YEAR  count_na  \n",
       "0         -0.087086      -0.626333      -0.090552      -0.124130  0.773715  \n",
       "1         -0.087086      -0.626333      -0.090552      -0.124130  0.979473  \n",
       "2         -0.087086      -0.626333      -0.090552      -0.124130  1.665334  \n",
       "3         -0.087086      -0.626333      -0.090552       8.591018 -0.460833  \n",
       "4         -0.087086      -0.626333      -0.090552      -0.124130 -0.460833  \n",
       "...             ...            ...            ...            ...       ...  \n",
       "4309      -0.087086       1.968180      -0.090552      -0.124130  0.773715  \n",
       "4310      -0.087086      -0.626333      -0.090552      -0.124130 -0.598005  \n",
       "4311      -0.087086       0.856246      -0.090552      -0.124130  2.762710  \n",
       "4312      -0.087086       1.968180      -0.090552      -0.124130  1.459575  \n",
       "4313      -0.087086      -0.626333      -0.090552      -0.124130  2.831296  \n",
       "\n",
       "[4314 rows x 457 columns]"
      ]
     },
     "execution_count": 87,
     "metadata": {},
     "output_type": "execute_result"
    }
   ],
   "source": [
    "data_full"
   ]
  },
  {
   "cell_type": "code",
   "execution_count": 88,
   "metadata": {},
   "outputs": [],
   "source": [
    "# decide on number of dicrete times:\n",
    "#halflife=13.*365.25\n",
    "\n",
    "#breaks = 365.25*np.r_[1, np.arange(2, endpt+1, 0.5)]\n",
    "breaks = 365.25*np.arange(1, endpt,0.5)\n",
    "#breaks=-np.log(1-np.arange(0.0,0.96,0.05))*halflife/np.log(2) \n",
    "n_intervals=len(breaks)-1\n",
    "timegap = breaks[1:] - breaks[:-1]\n",
    "\n"
   ]
  },
  {
   "cell_type": "code",
   "execution_count": 89,
   "metadata": {},
   "outputs": [],
   "source": [
    "# intialize hyperparam:\n",
    "hidden_layers_sizes = 4\n",
    "n_epochs = 50000\n",
    "learning_rate = 0.001\n",
    "lr_decay = 0.001\n",
    "momentum = 0.9\n",
    "n_in = data_full.shape[1]-3 # number of features\n",
    "\n",
    "\n",
    "def nnet_pred_surv(y_pred, breaks, fu_time):\n",
    "#Predicted survival probability from Nnet-survival model\n",
    "#Inputs are Numpy arrays.\n",
    "#y_pred: Rectangular array, each individual's conditional probability of surviving each time interval\n",
    "#breaks: Break-points for time intervals used for Nnet-survival model, starting with 0\n",
    "#fu_time: Follow-up time point at which predictions are needed\n",
    "#\n",
    "#Returns: predicted survival probability for each individual at specified follow-up time\n",
    "  y_pred=np.cumprod(y_pred, axis=1)\n",
    "  pred_surv = []\n",
    "  for i in range(y_pred.shape[0]):\n",
    "    pred_surv.append(np.interp(fu_time,breaks[1:],y_pred[i,:]))\n",
    "  return np.array(pred_surv)"
   ]
  },
  {
   "cell_type": "code",
   "execution_count": 90,
   "metadata": {},
   "outputs": [],
   "source": [
    "\n",
    "def f_nnet(X_df):\n",
    "    # return model.predict([X[:,i] for i in range(X.shape[1])]).flatten()\n",
    "    X = X_df.values\n",
    "    y_hat=model.predict(X,verbose=0)\n",
    "    last_yr_pred_prob_surv=np.cumprod(y_hat[:,0:np.nonzero(breaks>365*(endpt-1))[0][0]], axis=1)[:,-1]\n",
    "    return last_yr_pred_prob_surv\n",
    "\n",
    "def f_nnet_input_as_matrix(X):\n",
    "    # return model.predict([X[:,i] for i in range(X.shape[1])]).flatten()\n",
    "    y_hat=model.predict(X,verbose=0)\n",
    "    last_yr_pred_prob_surv=np.cumprod(y_hat[:,0:np.nonzero(breaks>365*(endpt-1))[0][0]], axis=1)[:,-1]\n",
    "    return last_yr_pred_prob_surv\n",
    "\n",
    "def vimp_shap_tabular(feature_names, vals):\n",
    "    feature_importance_df = pd.DataFrame(list(zip(feature_names, vals)), columns=['variable_name','vimp'])\n",
    "    feature_importance_df.sort_values(by=['vimp'], ascending=False,inplace=True)\n",
    "    feature_importance_df['normalized_vimp'] = (feature_importance_df['vimp'] - min(feature_importance_df['vimp']))/(max(feature_importance_df['vimp'])-min(feature_importance_df['vimp']))\n",
    "    \n",
    "    # merge with variable description:\n",
    "    var_dict = pd.read_csv(load_dir+'/y5_all_vars_dictionary_manually_selecting_vars (3).csv', encoding= 'unicode_escape')\n",
    "    var_dict[['Variable.Name', 'Variable.Label']]\n",
    "    # merge vimp table with var dict to get var description:\n",
    "    feature_importance_df_with_vardes = feature_importance_df.merge(\n",
    "        var_dict[['Variable.Name', 'Variable.Label']], how = 'inner', right_on= 'Variable.Name', left_on = 'variable_name', copy= False)\n",
    "    return(feature_importance_df_with_vardes[['Variable.Name','Variable.Label','normalized_vimp','vimp']])\n",
    "\n"
   ]
  },
  {
   "cell_type": "code",
   "execution_count": 91,
   "metadata": {
    "scrolled": false
   },
   "outputs": [
    {
     "name": "stdout",
     "output_type": "stream",
     "text": [
      "\n",
      "FOLD 0:\n",
      "\n",
      "Train C-index fold 1 :\n",
      "0.9738461104953694\n",
      "Test C-index fold 1 :\n",
      "0.6758348512446873\n"
     ]
    },
    {
     "data": {
      "application/vnd.jupyter.widget-view+json": {
       "model_id": "dc883fbfdc034c3fb399fa382206a64e",
       "version_major": 2,
       "version_minor": 0
      },
      "text/plain": [
       "HBox(children=(HTML(value=''), FloatProgress(value=0.0, max=936.0), HTML(value='')))"
      ]
     },
     "metadata": {},
     "output_type": "display_data"
    },
    {
     "name": "stdout",
     "output_type": "stream",
     "text": [
      "\n",
      "\n",
      "FOLD 1:\n",
      "\n",
      "Train C-index fold 2 :\n",
      "0.9818722993053403\n",
      "Test C-index fold 2 :\n",
      "0.8846991560032671\n"
     ]
    },
    {
     "data": {
      "application/vnd.jupyter.widget-view+json": {
       "model_id": "eca9e13021fa48538b43d070e717ea7c",
       "version_major": 2,
       "version_minor": 0
      },
      "text/plain": [
       "HBox(children=(HTML(value=''), FloatProgress(value=0.0, max=934.0), HTML(value='')))"
      ]
     },
     "metadata": {},
     "output_type": "display_data"
    },
    {
     "name": "stdout",
     "output_type": "stream",
     "text": [
      "\n",
      "\n",
      "FOLD 2:\n",
      "\n",
      "Train C-index fold 3 :\n",
      "0.9758715212006411\n",
      "Test C-index fold 3 :\n",
      "0.7011612021857924\n"
     ]
    },
    {
     "data": {
      "application/vnd.jupyter.widget-view+json": {
       "model_id": "e6a6cd18cba74325b41b524de88293c7",
       "version_major": 2,
       "version_minor": 0
      },
      "text/plain": [
       "HBox(children=(HTML(value=''), FloatProgress(value=0.0, max=935.0), HTML(value='')))"
      ]
     },
     "metadata": {},
     "output_type": "display_data"
    },
    {
     "name": "stdout",
     "output_type": "stream",
     "text": [
      "\n",
      "\n",
      "FOLD 3:\n",
      "\n",
      "Train C-index fold 4 :\n",
      "0.9579693378394382\n",
      "Test C-index fold 4 :\n",
      "0.4807823361046749\n"
     ]
    },
    {
     "data": {
      "application/vnd.jupyter.widget-view+json": {
       "model_id": "fcefdd1a499e4af38166ce73612ca772",
       "version_major": 2,
       "version_minor": 0
      },
      "text/plain": [
       "HBox(children=(HTML(value=''), FloatProgress(value=0.0, max=934.0), HTML(value='')))"
      ]
     },
     "metadata": {},
     "output_type": "display_data"
    },
    {
     "name": "stdout",
     "output_type": "stream",
     "text": [
      "\n",
      "\n",
      "FOLD 4:\n",
      "\n",
      "Train C-index fold 5 :\n",
      "0.9631486519685899\n",
      "Test C-index fold 5 :\n",
      "0.673266648396821\n"
     ]
    },
    {
     "data": {
      "application/vnd.jupyter.widget-view+json": {
       "model_id": "93cdf7526c0a44e8bd6d24992c3ddcd8",
       "version_major": 2,
       "version_minor": 0
      },
      "text/plain": [
       "HBox(children=(HTML(value=''), FloatProgress(value=0.0, max=924.0), HTML(value='')))"
      ]
     },
     "metadata": {},
     "output_type": "display_data"
    },
    {
     "name": "stdout",
     "output_type": "stream",
     "text": [
      "\n",
      "\n",
      "FOLD 5:\n",
      "\n",
      "Train C-index fold 6 :\n",
      "0.9713127826038012\n",
      "Test C-index fold 6 :\n",
      "0.6559565906596756\n"
     ]
    },
    {
     "data": {
      "application/vnd.jupyter.widget-view+json": {
       "model_id": "61bd0016bf3d4d73ba7a00e85f28f234",
       "version_major": 2,
       "version_minor": 0
      },
      "text/plain": [
       "HBox(children=(HTML(value=''), FloatProgress(value=0.0, max=927.0), HTML(value='')))"
      ]
     },
     "metadata": {},
     "output_type": "display_data"
    },
    {
     "name": "stdout",
     "output_type": "stream",
     "text": [
      "\n",
      "\n",
      "FOLD 6:\n",
      "\n",
      "Train C-index fold 7 :\n",
      "0.9559979641730817\n",
      "Test C-index fold 7 :\n",
      "0.8129303222252823\n"
     ]
    },
    {
     "data": {
      "application/vnd.jupyter.widget-view+json": {
       "model_id": "3526c26f75834f7a9c9ca8fbc7b103d3",
       "version_major": 2,
       "version_minor": 0
      },
      "text/plain": [
       "HBox(children=(HTML(value=''), FloatProgress(value=0.0, max=927.0), HTML(value='')))"
      ]
     },
     "metadata": {},
     "output_type": "display_data"
    },
    {
     "name": "stdout",
     "output_type": "stream",
     "text": [
      "\n",
      "\n",
      "FOLD 7:\n",
      "\n",
      "Train C-index fold 8 :\n",
      "0.9750282064347067\n",
      "Test C-index fold 8 :\n",
      "0.6822481151473612\n"
     ]
    },
    {
     "data": {
      "application/vnd.jupyter.widget-view+json": {
       "model_id": "2054d9bc32bd4217a6cf66e619e28404",
       "version_major": 2,
       "version_minor": 0
      },
      "text/plain": [
       "HBox(children=(HTML(value=''), FloatProgress(value=0.0, max=927.0), HTML(value='')))"
      ]
     },
     "metadata": {},
     "output_type": "display_data"
    },
    {
     "name": "stdout",
     "output_type": "stream",
     "text": [
      "\n",
      "\n",
      "FOLD 8:\n",
      "\n",
      "Train C-index fold 9 :\n",
      "0.9728613999434992\n",
      "Test C-index fold 9 :\n",
      "0.6790973547859286\n"
     ]
    },
    {
     "data": {
      "application/vnd.jupyter.widget-view+json": {
       "model_id": "de75d0b1572449b8bb14b9e6ebaf33d2",
       "version_major": 2,
       "version_minor": 0
      },
      "text/plain": [
       "HBox(children=(HTML(value=''), FloatProgress(value=0.0, max=927.0), HTML(value='')))"
      ]
     },
     "metadata": {},
     "output_type": "display_data"
    },
    {
     "name": "stdout",
     "output_type": "stream",
     "text": [
      "\n",
      "\n",
      "FOLD 9:\n",
      "\n",
      "Train C-index fold 10 :\n",
      "0.9890596794486078\n",
      "Test C-index fold 10 :\n",
      "0.749082256968049\n"
     ]
    },
    {
     "data": {
      "application/vnd.jupyter.widget-view+json": {
       "model_id": "f29c9b72b2104fe281aa474546cd2b6a",
       "version_major": 2,
       "version_minor": 0
      },
      "text/plain": [
       "HBox(children=(HTML(value=''), FloatProgress(value=0.0, max=933.0), HTML(value='')))"
      ]
     },
     "metadata": {},
     "output_type": "display_data"
    },
    {
     "name": "stdout",
     "output_type": "stream",
     "text": [
      "\n",
      "\n",
      "FOLD 10:\n",
      "\n",
      "Train C-index fold 11 :\n",
      "0.9628138678263803\n",
      "Test C-index fold 11 :\n",
      "0.696697247706422\n"
     ]
    },
    {
     "data": {
      "application/vnd.jupyter.widget-view+json": {
       "model_id": "efdcdb9d45a147d48a9211828649efcd",
       "version_major": 2,
       "version_minor": 0
      },
      "text/plain": [
       "HBox(children=(HTML(value=''), FloatProgress(value=0.0, max=923.0), HTML(value='')))"
      ]
     },
     "metadata": {},
     "output_type": "display_data"
    },
    {
     "name": "stdout",
     "output_type": "stream",
     "text": [
      "\n",
      "\n",
      "FOLD 11:\n",
      "\n",
      "Train C-index fold 12 :\n",
      "0.9744726064095462\n",
      "Test C-index fold 12 :\n",
      "0.6057426836002209\n"
     ]
    },
    {
     "data": {
      "application/vnd.jupyter.widget-view+json": {
       "model_id": "a4201e9037594264be845c0b9e5bdfab",
       "version_major": 2,
       "version_minor": 0
      },
      "text/plain": [
       "HBox(children=(HTML(value=''), FloatProgress(value=0.0, max=921.0), HTML(value='')))"
      ]
     },
     "metadata": {},
     "output_type": "display_data"
    },
    {
     "name": "stdout",
     "output_type": "stream",
     "text": [
      "\n",
      "\n",
      "FOLD 12:\n",
      "\n",
      "Train C-index fold 13 :\n",
      "0.9832786259194938\n",
      "Test C-index fold 13 :\n",
      "0.533044792525419\n"
     ]
    },
    {
     "data": {
      "application/vnd.jupyter.widget-view+json": {
       "model_id": "81028e802b594f6d9b833b6928c3c367",
       "version_major": 2,
       "version_minor": 0
      },
      "text/plain": [
       "HBox(children=(HTML(value=''), FloatProgress(value=0.0, max=922.0), HTML(value='')))"
      ]
     },
     "metadata": {},
     "output_type": "display_data"
    },
    {
     "name": "stdout",
     "output_type": "stream",
     "text": [
      "\n",
      "\n",
      "FOLD 13:\n",
      "\n",
      "Train C-index fold 14 :\n",
      "0.9715793581645248\n",
      "Test C-index fold 14 :\n",
      "0.7609897705280619\n"
     ]
    },
    {
     "data": {
      "application/vnd.jupyter.widget-view+json": {
       "model_id": "b8da0a48cf694e999aa976904643c5a2",
       "version_major": 2,
       "version_minor": 0
      },
      "text/plain": [
       "HBox(children=(HTML(value=''), FloatProgress(value=0.0, max=921.0), HTML(value='')))"
      ]
     },
     "metadata": {},
     "output_type": "display_data"
    },
    {
     "name": "stdout",
     "output_type": "stream",
     "text": [
      "\n",
      "\n",
      "FOLD 14:\n",
      "\n",
      "Train C-index fold 15 :\n",
      "0.9698457667312322\n",
      "Test C-index fold 15 :\n",
      "0.849454850433324\n"
     ]
    },
    {
     "data": {
      "application/vnd.jupyter.widget-view+json": {
       "model_id": "578c6c36084445eca6dad83c4f6936a2",
       "version_major": 2,
       "version_minor": 0
      },
      "text/plain": [
       "HBox(children=(HTML(value=''), FloatProgress(value=0.0, max=916.0), HTML(value='')))"
      ]
     },
     "metadata": {},
     "output_type": "display_data"
    },
    {
     "name": "stdout",
     "output_type": "stream",
     "text": [
      "\n",
      "\n",
      "FOLD 15:\n",
      "\n",
      "Train C-index fold 16 :\n",
      "0.9858341090956961\n",
      "Test C-index fold 16 :\n",
      "0.7138110198163364\n"
     ]
    },
    {
     "data": {
      "application/vnd.jupyter.widget-view+json": {
       "model_id": "303d787d75304743a3820826eb8eefe5",
       "version_major": 2,
       "version_minor": 0
      },
      "text/plain": [
       "HBox(children=(HTML(value=''), FloatProgress(value=0.0, max=938.0), HTML(value='')))"
      ]
     },
     "metadata": {},
     "output_type": "display_data"
    },
    {
     "name": "stdout",
     "output_type": "stream",
     "text": [
      "\n",
      "\n",
      "FOLD 16:\n",
      "\n",
      "Train C-index fold 17 :\n",
      "0.9760205199357382\n",
      "Test C-index fold 17 :\n",
      "0.6756061221725586\n"
     ]
    },
    {
     "data": {
      "application/vnd.jupyter.widget-view+json": {
       "model_id": "96481f3887b8429db129dcb5d10286ae",
       "version_major": 2,
       "version_minor": 0
      },
      "text/plain": [
       "HBox(children=(HTML(value=''), FloatProgress(value=0.0, max=936.0), HTML(value='')))"
      ]
     },
     "metadata": {},
     "output_type": "display_data"
    },
    {
     "name": "stdout",
     "output_type": "stream",
     "text": [
      "\n",
      "\n",
      "FOLD 17:\n",
      "\n",
      "Train C-index fold 18 :\n",
      "0.9662611324603421\n",
      "Test C-index fold 18 :\n",
      "0.7720879421002321\n"
     ]
    },
    {
     "data": {
      "application/vnd.jupyter.widget-view+json": {
       "model_id": "81272c405bcc416284d5378de06f81a2",
       "version_major": 2,
       "version_minor": 0
      },
      "text/plain": [
       "HBox(children=(HTML(value=''), FloatProgress(value=0.0, max=937.0), HTML(value='')))"
      ]
     },
     "metadata": {},
     "output_type": "display_data"
    },
    {
     "name": "stdout",
     "output_type": "stream",
     "text": [
      "\n",
      "\n",
      "FOLD 18:\n",
      "\n",
      "Train C-index fold 19 :\n",
      "0.9720357839829288\n",
      "Test C-index fold 19 :\n",
      "0.8586380318064428\n"
     ]
    },
    {
     "data": {
      "application/vnd.jupyter.widget-view+json": {
       "model_id": "4efc84b2e36f46529bace26058b1df97",
       "version_major": 2,
       "version_minor": 0
      },
      "text/plain": [
       "HBox(children=(HTML(value=''), FloatProgress(value=0.0, max=936.0), HTML(value='')))"
      ]
     },
     "metadata": {},
     "output_type": "display_data"
    },
    {
     "name": "stdout",
     "output_type": "stream",
     "text": [
      "\n",
      "\n",
      "FOLD 19:\n",
      "\n",
      "Train C-index fold 20 :\n",
      "0.9953133966715552\n",
      "Test C-index fold 20 :\n",
      "0.5212257712257712\n"
     ]
    },
    {
     "data": {
      "application/vnd.jupyter.widget-view+json": {
       "model_id": "f65aae00861a44cb984a2986460977bc",
       "version_major": 2,
       "version_minor": 0
      },
      "text/plain": [
       "HBox(children=(HTML(value=''), FloatProgress(value=0.0, max=926.0), HTML(value='')))"
      ]
     },
     "metadata": {},
     "output_type": "display_data"
    },
    {
     "name": "stdout",
     "output_type": "stream",
     "text": [
      "\n",
      "\n",
      "FOLD 20:\n",
      "\n",
      "Train C-index fold 21 :\n",
      "0.975554369404802\n",
      "Test C-index fold 21 :\n",
      "0.6776687116564417\n"
     ]
    },
    {
     "data": {
      "application/vnd.jupyter.widget-view+json": {
       "model_id": "e9bdd9d302cd42d9aea6d420256513d3",
       "version_major": 2,
       "version_minor": 0
      },
      "text/plain": [
       "HBox(children=(HTML(value=''), FloatProgress(value=0.0, max=921.0), HTML(value='')))"
      ]
     },
     "metadata": {},
     "output_type": "display_data"
    },
    {
     "name": "stdout",
     "output_type": "stream",
     "text": [
      "\n",
      "\n",
      "FOLD 21:\n",
      "\n",
      "Train C-index fold 22 :\n",
      "0.9866983351347424\n",
      "Test C-index fold 22 :\n",
      "0.8030637593154845\n"
     ]
    },
    {
     "data": {
      "application/vnd.jupyter.widget-view+json": {
       "model_id": "f67cd3b2d0b34a9fab7dad30a88d7447",
       "version_major": 2,
       "version_minor": 0
      },
      "text/plain": [
       "HBox(children=(HTML(value=''), FloatProgress(value=0.0, max=919.0), HTML(value='')))"
      ]
     },
     "metadata": {},
     "output_type": "display_data"
    },
    {
     "name": "stdout",
     "output_type": "stream",
     "text": [
      "\n",
      "\n",
      "FOLD 22:\n",
      "\n",
      "Train C-index fold 23 :\n",
      "0.9675685979068902\n",
      "Test C-index fold 23 :\n",
      "0.565860400829302\n"
     ]
    },
    {
     "data": {
      "application/vnd.jupyter.widget-view+json": {
       "model_id": "3fd31a1af8bf46cbbc737f04861603ef",
       "version_major": 2,
       "version_minor": 0
      },
      "text/plain": [
       "HBox(children=(HTML(value=''), FloatProgress(value=0.0, max=920.0), HTML(value='')))"
      ]
     },
     "metadata": {},
     "output_type": "display_data"
    },
    {
     "name": "stdout",
     "output_type": "stream",
     "text": [
      "\n",
      "\n",
      "FOLD 23:\n",
      "\n",
      "Train C-index fold 24 :\n",
      "0.9672632296161708\n",
      "Test C-index fold 24 :\n",
      "0.7594404630650496\n"
     ]
    },
    {
     "data": {
      "application/vnd.jupyter.widget-view+json": {
       "model_id": "a5b91879f5204229bf39f472129166f2",
       "version_major": 2,
       "version_minor": 0
      },
      "text/plain": [
       "HBox(children=(HTML(value=''), FloatProgress(value=0.0, max=919.0), HTML(value='')))"
      ]
     },
     "metadata": {},
     "output_type": "display_data"
    },
    {
     "name": "stdout",
     "output_type": "stream",
     "text": [
      "\n",
      "\n",
      "FOLD 24:\n",
      "\n",
      "Train C-index fold 25 :\n",
      "0.961323226992302\n",
      "Test C-index fold 25 :\n",
      "0.8373081140350878\n"
     ]
    },
    {
     "data": {
      "application/vnd.jupyter.widget-view+json": {
       "model_id": "4c008de97817452f94dbd0635907138e",
       "version_major": 2,
       "version_minor": 0
      },
      "text/plain": [
       "HBox(children=(HTML(value=''), FloatProgress(value=0.0, max=929.0), HTML(value='')))"
      ]
     },
     "metadata": {},
     "output_type": "display_data"
    },
    {
     "name": "stdout",
     "output_type": "stream",
     "text": [
      "\n"
     ]
    }
   ],
   "source": [
    "# Outerloop:\n",
    "for fold in range(25):\n",
    "\n",
    "    print('')\n",
    "    print('FOLD '+str(fold)+':')\n",
    "    print('')\n",
    "\n",
    "    trainingid = trainingid_all.iloc[:,fold]\n",
    "    trainingid = trainingid[~np.isnan(trainingid)]\n",
    "    eligible_id = data_full['ID'][data_full['ID'].isin(trainingid)]\n",
    "    train_df = data_full.loc[data_full['ID'].isin(trainingid),:]\n",
    "    del train_df['ID']\n",
    "    test_df = data_full.loc[~data_full['ID'].isin(trainingid),:]\n",
    "    del test_df['ID']\n",
    "\n",
    "\n",
    "    # reformat the train and test set:\n",
    "    y_train = nnet_survival.make_surv_array(train_df.time.values\n",
    "                                            , train_df.event.values\n",
    "                                            , breaks)\n",
    "    y_test = nnet_survival.make_surv_array(test_df.time.values\n",
    "                                           , test_df.event.values\n",
    "                                           , breaks)\n",
    "    featurespace_train_df = train_df.drop(['time','event'],axis =1)\n",
    "    featurespace_test_df = test_df.drop(['time','event'],axis =1)\n",
    "\n",
    "    featurespace_train = train_df.drop(['time','event'],axis =1).values\n",
    "    featurespace_test = test_df.drop(['time','event'],axis =1).values\n",
    "\n",
    "\n",
    "\n",
    "    ##########################\n",
    "    # Build model:\n",
    "    l2_final=0.01\n",
    "\n",
    "    from numpy.random import seed\n",
    "\n",
    "    seed(1)\n",
    "    import tensorflow as tf\n",
    "    import keras\n",
    "    tf.random.set_seed(2)\n",
    "\n",
    "    model = Sequential()\n",
    "    model.add(Dense(hidden_layers_sizes\n",
    "                    , input_dim=featurespace_train.shape[1]\n",
    "                    , bias_initializer='zeros'\n",
    "                    , kernel_regularizer=regularizers.l2(l2_final)))\n",
    "    model.add(Activation('relu'))\n",
    "    model.add(Dense(n_intervals))\n",
    "    model.add(Activation('sigmoid'))\n",
    "    # import keras.backend.tensorflow_backend as kk\n",
    "\n",
    "    model.compile(loss=nnet_survival.surv_likelihood(n_intervals), optimizer=optimizers.RMSprop())\n",
    "    early_stopping = EarlyStopping(monitor='loss', patience=20)\n",
    "    history=model.fit(featurespace_train, y_train, batch_size=4063, epochs=100000\n",
    "                      , callbacks=[early_stopping]\n",
    "                      , verbose=0)\n",
    "\n",
    "\n",
    "    # print loss of train and valid data:\n",
    "    # print(model.evaluate(featurespace_train,y_train,verbose=0))\n",
    "    # model.evaluate(featurespace_test,y_test,verbose=0)\n",
    "\n",
    "    #Discrimination performance\n",
    "    # y_pred is conditional prob of survival within each time interval\n",
    "    y_pred_train = model.predict(featurespace_train,verbose=0)\n",
    "    # cumprod = cumulative product, the probability of surviving from time 0 up to the time interval of interest\n",
    "    # index -1 because we are interested in -1 \n",
    "    last_yr_surv_train=np.cumprod(y_pred_train[:,0:np.nonzero(breaks>365*(endpt-1))[0][0]], axis=1)[:,-1]\n",
    "    print('Train C-index fold', str(fold+1),':')\n",
    "    print(concordance_index(train_df.time, last_yr_surv_train, train_df.event)) \n",
    "\n",
    "    y_pred=model.predict(featurespace_test,verbose=0)\n",
    "    last_yr_surv=np.cumprod(y_pred[:,0:np.nonzero(breaks>365*(endpt-1))[0][0]], axis=1)[:,-1]\n",
    "    print('Test C-index fold', str(fold+1),':')\n",
    "    print(concordance_index(test_df.time,last_yr_surv, test_df.event))\n",
    "\n",
    "    pred_surv = np.zeros((len(test_df.event), len(eval_times)))\n",
    "    col=0\n",
    "    for time in eval_times:\n",
    "        pred_surv[:,col] = nnet_pred_surv(y_pred, breaks, time)\n",
    "        col = col+1\n",
    "    pred_surv = pd.DataFrame(data = pred_surv)\n",
    "    # savedir = os.path.join(os.getcwd(),'python_files/csv_files/nnet_survival/all_features')\n",
    "    savedir = os.path.join(work_dir,'csv_files/nnet_survival/'+str(n_features)+'_features/'+term_pred)\n",
    "    try: \n",
    "        os.makedirs(savedir)\n",
    "    except OSError:\n",
    "        if not os.path.isdir(savedir):\n",
    "            raise\n",
    "    actual_fold = fold+1\n",
    "    pred_surv.to_csv(savedir+'/pred_prob_surv_fold_'+str(actual_fold)+'.csv', index = None, header = True)\n",
    "\n",
    "\n",
    "    ## SHAP:\n",
    "    \n",
    "    X_train_df_summary_50 = shap.kmeans(featurespace_train_df, 50)\n",
    "    explainer_kmeans_50 = shap.KernelExplainer(f_nnet_input_as_matrix, X_train_df_summary_50, feature_names=feature_name_list) \n",
    "    kmeans_shaps_50 = explainer_kmeans_50.shap_values(featurespace_test_df)\n",
    "\n",
    "    vimp_shap_kmeans_50 = vimp_shap_tabular(feature_name_list, np.abs(kmeans_shaps_50).mean(0))\n",
    "    \n",
    "    vimp_shap_kmeans_50.to_csv(savedir+'/shap_kernel_explainer_fold_'+str(actual_fold)+'.csv', index = None, header = True)\n",
    "\n",
    "    "
   ]
  },
  {
   "cell_type": "code",
   "execution_count": 94,
   "metadata": {},
   "outputs": [
    {
     "data": {
      "text/plain": [
       "'U:/Hieu/CARDIA_project/CARDIA_project/cvd_outcome_rerun_2\\\\csv_files/nnet_survival/all_features/short_term'"
      ]
     },
     "execution_count": 94,
     "metadata": {},
     "output_type": "execute_result"
    }
   ],
   "source": [
    "savedir"
   ]
  },
  {
   "cell_type": "code",
   "execution_count": 92,
   "metadata": {},
   "outputs": [],
   "source": [
    "## Using Explainer function instead of KernelExplainer:\n",
    "# explainer_full_training = shap.Explainer(f_nnet, featurespace_train_df.iloc[:,:], feature_names=feature_name_list) \n",
    "# shaps_full_training_on_test_set = explainer_full_training(featurespace_test_df, max_evals = 2 * len(feature_name_list) + 1)\n",
    "# vimp_shap_full_training_on_test_set = vimp_shap_tabular(feature_name_list, np.abs(shaps_full_training_on_test_set.values).mean(0))\n",
    "# vimp_shap_full_training_on_test_set.iloc[:21,:]"
   ]
  },
  {
   "cell_type": "code",
   "execution_count": 93,
   "metadata": {},
   "outputs": [],
   "source": [
    "## Summpary plot (or beeswarm plot):\n",
    "# shap.summary_plot(kmeans_shaps_50,featurespace_test_df)"
   ]
  }
 ],
 "metadata": {
  "kernelspec": {
   "display_name": "Python 3",
   "language": "python",
   "name": "python3"
  },
  "language_info": {
   "codemirror_mode": {
    "name": "ipython",
    "version": 3
   },
   "file_extension": ".py",
   "mimetype": "text/x-python",
   "name": "python",
   "nbconvert_exporter": "python",
   "pygments_lexer": "ipython3",
   "version": "3.8.5"
  },
  "varInspector": {
   "cols": {
    "lenName": 16,
    "lenType": 16,
    "lenVar": 40
   },
   "kernels_config": {
    "python": {
     "delete_cmd_postfix": "",
     "delete_cmd_prefix": "del ",
     "library": "var_list.py",
     "varRefreshCmd": "print(var_dic_list())"
    },
    "r": {
     "delete_cmd_postfix": ") ",
     "delete_cmd_prefix": "rm(",
     "library": "var_list.r",
     "varRefreshCmd": "cat(var_dic_list()) "
    }
   },
   "types_to_exclude": [
    "module",
    "function",
    "builtin_function_or_method",
    "instance",
    "_Feature"
   ],
   "window_display": false
  }
 },
 "nbformat": 4,
 "nbformat_minor": 4
}
